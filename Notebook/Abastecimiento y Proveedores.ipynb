{
 "cells": [
  {
   "cell_type": "code",
   "execution_count": null,
   "id": "5ab5f790-1871-46d4-88f6-ed9e466914d6",
   "metadata": {},
   "outputs": [],
   "source": [
    "Abastecimiento y Proveedores"
   ]
  },
  {
   "cell_type": "markdown",
   "id": "0401c6e7-72e2-40b4-8f1a-b038d17eeecf",
   "metadata": {},
   "source": [
    "\n",
    "1. Desempeño de proveedores (Lead time)\n",
    "\n",
    "Problema:\n",
    "Algunos proveedores pueden entregar con retraso o con alta variabilidad en los tiempos de entrega, lo que genera quiebres de stock, retrasos en producción y clientes insatisfechos.\n",
    "\n",
    "Métrica calculada:\n",
    "\n",
    "Promedio de lead time (Avg_Lead_Time)\n",
    "Desviación estándar de lead time (Std_Lead_Time)\n",
    "Cumplimiento de entrega dentro del lead time prometido (On_Time_Percentage)\n",
    "\n",
    "Qué resolvemos:\n",
    "\n",
    "Identificar proveedores confiables y consistentes.\n",
    "Detectar riesgos de retraso antes de que impacten en la producción.\n",
    "Priorizar renegociación o sustitución de proveedores críticos."
   ]
  },
  {
   "cell_type": "markdown",
   "id": "309a856b-33ae-4e7d-9f4f-a22b59f14973",
   "metadata": {},
   "source": [
    "2. Costos de manufactura\n",
    "\n",
    "Problema:\n",
    "Algunos proveedores producen a mayor costo o no se sabe cuál es el costo promedio por unidad, dificultando tomar decisiones de compra y planificación de presupuesto.\n",
    "\n",
    "Métrica calculada:\n",
    "\n",
    "Costo unitario promedio por proveedor (Avg_Manufacturing_Cost)\n",
    "Comparación entre proveedores que entregan el mismo SKU\n",
    "\n",
    "Qué resolvemos:\n",
    "\n",
    "Identificar proveedores más económicos para productos equivalentes.\n",
    "Balancear costo vs desempeño y calidad.\n",
    "Optimizar la inversión en producción sin sacrificar cumplimiento."
   ]
  },
  {
   "cell_type": "markdown",
   "id": "cdf2ab6f-31eb-4f6a-bca5-946bd54a1f58",
   "metadata": {},
   "source": [
    "3. Cumplimiento de producción y entrega\n",
    "\n",
    "Problema:\n",
    "Los pedidos pueden entregarse fuera de plazo o incompletos, generando retrasos en inventario y cadena de suministro.\n",
    "\n",
    "Métrica calculada:\n",
    "\n",
    "Orden entregada a tiempo: Delivery_date <= Order_date + Lead_time_promised\n",
    "Porcentaje de cumplimiento por proveedor (On_Time_Percentage)\n",
    "Alertas de retrasos para tomar decisiones\n",
    "\n",
    "Qué resolvemos:\n",
    "\n",
    "Detectar proveedores con bajo desempeño en entregas.\n",
    "Tomar decisiones estratégicas: renegociar plazos, reemplazar proveedores o ajustar inventarios de seguridad.\n",
    "Minimizar riesgos de quiebres de stock y retrasos en producción."
   ]
  },
  {
   "cell_type": "markdown",
   "id": "5d2f2dad-caaa-45dd-9072-d7be9ce83791",
   "metadata": {},
   "source": [
    "4. Alertas y categorización de riesgo\n",
    "\n",
    "Problema:\n",
    "Es difícil interpretar grandes volúmenes de datos de proveedores y priorizar acciones sin un indicador claro.\n",
    "\n",
    "Métrica calculada:\n",
    "\n",
    "Clasificación de proveedores en Top Performer, Normal, Crítico, Sin datos\n",
    "Alertas visuales (🔴, 🟡, 🟢, ⚪)\n",
    "\n",
    "Qué resolvemos:\n",
    "\n",
    "Identificar de un vistazo cuáles proveedores requieren atención inmediata.\n",
    "Facilitar la toma de decisiones para compras, renegociación o sustitución.\n",
    "Mejorar la visibilidad y control del desempeño de la cadena de suministro."
   ]
  },
  {
   "cell_type": "code",
   "execution_count": 1,
   "id": "d30bf749-f8a1-48df-9d5c-ce9c13055c24",
   "metadata": {},
   "outputs": [
    {
     "ename": "KeyError",
     "evalue": "\"Column(s) ['Lead_time_promised'] do not exist\"",
     "output_type": "error",
     "traceback": [
      "\u001b[1;31m---------------------------------------------------------------------------\u001b[0m",
      "\u001b[1;31mKeyError\u001b[0m                                  Traceback (most recent call last)",
      "Cell \u001b[1;32mIn[1], line 7\u001b[0m\n\u001b[0;32m      4\u001b[0m df \u001b[38;5;241m=\u001b[39m pd\u001b[38;5;241m.\u001b[39mread_csv(\u001b[38;5;124m\"\u001b[39m\u001b[38;5;124msupply_chain_data.csv\u001b[39m\u001b[38;5;124m\"\u001b[39m)\n\u001b[0;32m      6\u001b[0m \u001b[38;5;66;03m# Métricas por proveedor\u001b[39;00m\n\u001b[1;32m----> 7\u001b[0m provider_metrics \u001b[38;5;241m=\u001b[39m df\u001b[38;5;241m.\u001b[39mgroupby(\u001b[38;5;124m'\u001b[39m\u001b[38;5;124mSupplier name\u001b[39m\u001b[38;5;124m'\u001b[39m)\u001b[38;5;241m.\u001b[39magg(\n\u001b[0;32m      8\u001b[0m     Avg_Lead_Time\u001b[38;5;241m=\u001b[39m(\u001b[38;5;124m'\u001b[39m\u001b[38;5;124mLead time\u001b[39m\u001b[38;5;124m'\u001b[39m, \u001b[38;5;124m'\u001b[39m\u001b[38;5;124mmean\u001b[39m\u001b[38;5;124m'\u001b[39m),\n\u001b[0;32m      9\u001b[0m     Std_Lead_Time\u001b[38;5;241m=\u001b[39m(\u001b[38;5;124m'\u001b[39m\u001b[38;5;124mLead time\u001b[39m\u001b[38;5;124m'\u001b[39m, \u001b[38;5;124m'\u001b[39m\u001b[38;5;124mstd\u001b[39m\u001b[38;5;124m'\u001b[39m),\n\u001b[0;32m     10\u001b[0m     Avg_Lead_Time_Promised\u001b[38;5;241m=\u001b[39m(\u001b[38;5;124m'\u001b[39m\u001b[38;5;124mLead_time_promised\u001b[39m\u001b[38;5;124m'\u001b[39m, \u001b[38;5;124m'\u001b[39m\u001b[38;5;124mmean\u001b[39m\u001b[38;5;124m'\u001b[39m),\n\u001b[0;32m     11\u001b[0m     Avg_Manufacturing_Cost\u001b[38;5;241m=\u001b[39m(\u001b[38;5;124m'\u001b[39m\u001b[38;5;124mManufacturing costs\u001b[39m\u001b[38;5;124m'\u001b[39m, \u001b[38;5;124m'\u001b[39m\u001b[38;5;124mmean\u001b[39m\u001b[38;5;124m'\u001b[39m),\n\u001b[0;32m     12\u001b[0m     Avg_Defect_Rate\u001b[38;5;241m=\u001b[39m(\u001b[38;5;124m'\u001b[39m\u001b[38;5;124mDefect rates\u001b[39m\u001b[38;5;124m'\u001b[39m, \u001b[38;5;124m'\u001b[39m\u001b[38;5;124mmean\u001b[39m\u001b[38;5;124m'\u001b[39m),\n\u001b[0;32m     13\u001b[0m     Orders_Count\u001b[38;5;241m=\u001b[39m(\u001b[38;5;124m'\u001b[39m\u001b[38;5;124mSKU\u001b[39m\u001b[38;5;124m'\u001b[39m, \u001b[38;5;124m'\u001b[39m\u001b[38;5;124mcount\u001b[39m\u001b[38;5;124m'\u001b[39m),\n\u001b[0;32m     14\u001b[0m     Total_Production_Volume\u001b[38;5;241m=\u001b[39m(\u001b[38;5;124m'\u001b[39m\u001b[38;5;124mProduction volumes\u001b[39m\u001b[38;5;124m'\u001b[39m, \u001b[38;5;124m'\u001b[39m\u001b[38;5;124msum\u001b[39m\u001b[38;5;124m'\u001b[39m)\n\u001b[0;32m     15\u001b[0m )\u001b[38;5;241m.\u001b[39mreset_index()\n\u001b[0;32m     17\u001b[0m \u001b[38;5;66;03m# Alertas y categorización basada en thresholds\u001b[39;00m\n\u001b[0;32m     18\u001b[0m \u001b[38;5;28;01mdef\u001b[39;00m \u001b[38;5;21mcategorize_provider\u001b[39m(row):\n",
      "File \u001b[1;32m~\\anaconda3\\Lib\\site-packages\\pandas\\core\\groupby\\generic.py:1432\u001b[0m, in \u001b[0;36mDataFrameGroupBy.aggregate\u001b[1;34m(self, func, engine, engine_kwargs, *args, **kwargs)\u001b[0m\n\u001b[0;32m   1429\u001b[0m     kwargs[\u001b[38;5;124m\"\u001b[39m\u001b[38;5;124mengine_kwargs\u001b[39m\u001b[38;5;124m\"\u001b[39m] \u001b[38;5;241m=\u001b[39m engine_kwargs\n\u001b[0;32m   1431\u001b[0m op \u001b[38;5;241m=\u001b[39m GroupByApply(\u001b[38;5;28mself\u001b[39m, func, args\u001b[38;5;241m=\u001b[39margs, kwargs\u001b[38;5;241m=\u001b[39mkwargs)\n\u001b[1;32m-> 1432\u001b[0m result \u001b[38;5;241m=\u001b[39m op\u001b[38;5;241m.\u001b[39magg()\n\u001b[0;32m   1433\u001b[0m \u001b[38;5;28;01mif\u001b[39;00m \u001b[38;5;129;01mnot\u001b[39;00m is_dict_like(func) \u001b[38;5;129;01mand\u001b[39;00m result \u001b[38;5;129;01mis\u001b[39;00m \u001b[38;5;129;01mnot\u001b[39;00m \u001b[38;5;28;01mNone\u001b[39;00m:\n\u001b[0;32m   1434\u001b[0m     \u001b[38;5;66;03m# GH #52849\u001b[39;00m\n\u001b[0;32m   1435\u001b[0m     \u001b[38;5;28;01mif\u001b[39;00m \u001b[38;5;129;01mnot\u001b[39;00m \u001b[38;5;28mself\u001b[39m\u001b[38;5;241m.\u001b[39mas_index \u001b[38;5;129;01mand\u001b[39;00m is_list_like(func):\n",
      "File \u001b[1;32m~\\anaconda3\\Lib\\site-packages\\pandas\\core\\apply.py:190\u001b[0m, in \u001b[0;36mApply.agg\u001b[1;34m(self)\u001b[0m\n\u001b[0;32m    187\u001b[0m     \u001b[38;5;28;01mreturn\u001b[39;00m \u001b[38;5;28mself\u001b[39m\u001b[38;5;241m.\u001b[39mapply_str()\n\u001b[0;32m    189\u001b[0m \u001b[38;5;28;01mif\u001b[39;00m is_dict_like(func):\n\u001b[1;32m--> 190\u001b[0m     \u001b[38;5;28;01mreturn\u001b[39;00m \u001b[38;5;28mself\u001b[39m\u001b[38;5;241m.\u001b[39magg_dict_like()\n\u001b[0;32m    191\u001b[0m \u001b[38;5;28;01melif\u001b[39;00m is_list_like(func):\n\u001b[0;32m    192\u001b[0m     \u001b[38;5;66;03m# we require a list, but not a 'str'\u001b[39;00m\n\u001b[0;32m    193\u001b[0m     \u001b[38;5;28;01mreturn\u001b[39;00m \u001b[38;5;28mself\u001b[39m\u001b[38;5;241m.\u001b[39magg_list_like()\n",
      "File \u001b[1;32m~\\anaconda3\\Lib\\site-packages\\pandas\\core\\apply.py:423\u001b[0m, in \u001b[0;36mApply.agg_dict_like\u001b[1;34m(self)\u001b[0m\n\u001b[0;32m    415\u001b[0m \u001b[38;5;28;01mdef\u001b[39;00m \u001b[38;5;21magg_dict_like\u001b[39m(\u001b[38;5;28mself\u001b[39m) \u001b[38;5;241m-\u001b[39m\u001b[38;5;241m>\u001b[39m DataFrame \u001b[38;5;241m|\u001b[39m Series:\n\u001b[0;32m    416\u001b[0m \u001b[38;5;250m    \u001b[39m\u001b[38;5;124;03m\"\"\"\u001b[39;00m\n\u001b[0;32m    417\u001b[0m \u001b[38;5;124;03m    Compute aggregation in the case of a dict-like argument.\u001b[39;00m\n\u001b[0;32m    418\u001b[0m \n\u001b[1;32m   (...)\u001b[0m\n\u001b[0;32m    421\u001b[0m \u001b[38;5;124;03m    Result of aggregation.\u001b[39;00m\n\u001b[0;32m    422\u001b[0m \u001b[38;5;124;03m    \"\"\"\u001b[39;00m\n\u001b[1;32m--> 423\u001b[0m     \u001b[38;5;28;01mreturn\u001b[39;00m \u001b[38;5;28mself\u001b[39m\u001b[38;5;241m.\u001b[39magg_or_apply_dict_like(op_name\u001b[38;5;241m=\u001b[39m\u001b[38;5;124m\"\u001b[39m\u001b[38;5;124magg\u001b[39m\u001b[38;5;124m\"\u001b[39m)\n",
      "File \u001b[1;32m~\\anaconda3\\Lib\\site-packages\\pandas\\core\\apply.py:1603\u001b[0m, in \u001b[0;36mGroupByApply.agg_or_apply_dict_like\u001b[1;34m(self, op_name)\u001b[0m\n\u001b[0;32m   1598\u001b[0m     kwargs\u001b[38;5;241m.\u001b[39mupdate({\u001b[38;5;124m\"\u001b[39m\u001b[38;5;124mengine\u001b[39m\u001b[38;5;124m\"\u001b[39m: engine, \u001b[38;5;124m\"\u001b[39m\u001b[38;5;124mengine_kwargs\u001b[39m\u001b[38;5;124m\"\u001b[39m: engine_kwargs})\n\u001b[0;32m   1600\u001b[0m \u001b[38;5;28;01mwith\u001b[39;00m com\u001b[38;5;241m.\u001b[39mtemp_setattr(\n\u001b[0;32m   1601\u001b[0m     obj, \u001b[38;5;124m\"\u001b[39m\u001b[38;5;124mas_index\u001b[39m\u001b[38;5;124m\"\u001b[39m, \u001b[38;5;28;01mTrue\u001b[39;00m, condition\u001b[38;5;241m=\u001b[39m\u001b[38;5;28mhasattr\u001b[39m(obj, \u001b[38;5;124m\"\u001b[39m\u001b[38;5;124mas_index\u001b[39m\u001b[38;5;124m\"\u001b[39m)\n\u001b[0;32m   1602\u001b[0m ):\n\u001b[1;32m-> 1603\u001b[0m     result_index, result_data \u001b[38;5;241m=\u001b[39m \u001b[38;5;28mself\u001b[39m\u001b[38;5;241m.\u001b[39mcompute_dict_like(\n\u001b[0;32m   1604\u001b[0m         op_name, selected_obj, selection, kwargs\n\u001b[0;32m   1605\u001b[0m     )\n\u001b[0;32m   1606\u001b[0m result \u001b[38;5;241m=\u001b[39m \u001b[38;5;28mself\u001b[39m\u001b[38;5;241m.\u001b[39mwrap_results_dict_like(selected_obj, result_index, result_data)\n\u001b[0;32m   1607\u001b[0m \u001b[38;5;28;01mreturn\u001b[39;00m result\n",
      "File \u001b[1;32m~\\anaconda3\\Lib\\site-packages\\pandas\\core\\apply.py:462\u001b[0m, in \u001b[0;36mApply.compute_dict_like\u001b[1;34m(self, op_name, selected_obj, selection, kwargs)\u001b[0m\n\u001b[0;32m    460\u001b[0m is_groupby \u001b[38;5;241m=\u001b[39m \u001b[38;5;28misinstance\u001b[39m(obj, (DataFrameGroupBy, SeriesGroupBy))\n\u001b[0;32m    461\u001b[0m func \u001b[38;5;241m=\u001b[39m cast(AggFuncTypeDict, \u001b[38;5;28mself\u001b[39m\u001b[38;5;241m.\u001b[39mfunc)\n\u001b[1;32m--> 462\u001b[0m func \u001b[38;5;241m=\u001b[39m \u001b[38;5;28mself\u001b[39m\u001b[38;5;241m.\u001b[39mnormalize_dictlike_arg(op_name, selected_obj, func)\n\u001b[0;32m    464\u001b[0m is_non_unique_col \u001b[38;5;241m=\u001b[39m (\n\u001b[0;32m    465\u001b[0m     selected_obj\u001b[38;5;241m.\u001b[39mndim \u001b[38;5;241m==\u001b[39m \u001b[38;5;241m2\u001b[39m\n\u001b[0;32m    466\u001b[0m     \u001b[38;5;129;01mand\u001b[39;00m selected_obj\u001b[38;5;241m.\u001b[39mcolumns\u001b[38;5;241m.\u001b[39mnunique() \u001b[38;5;241m<\u001b[39m \u001b[38;5;28mlen\u001b[39m(selected_obj\u001b[38;5;241m.\u001b[39mcolumns)\n\u001b[0;32m    467\u001b[0m )\n\u001b[0;32m    469\u001b[0m \u001b[38;5;28;01mif\u001b[39;00m selected_obj\u001b[38;5;241m.\u001b[39mndim \u001b[38;5;241m==\u001b[39m \u001b[38;5;241m1\u001b[39m:\n\u001b[0;32m    470\u001b[0m     \u001b[38;5;66;03m# key only used for output\u001b[39;00m\n",
      "File \u001b[1;32m~\\anaconda3\\Lib\\site-packages\\pandas\\core\\apply.py:663\u001b[0m, in \u001b[0;36mApply.normalize_dictlike_arg\u001b[1;34m(self, how, obj, func)\u001b[0m\n\u001b[0;32m    661\u001b[0m     cols \u001b[38;5;241m=\u001b[39m Index(\u001b[38;5;28mlist\u001b[39m(func\u001b[38;5;241m.\u001b[39mkeys()))\u001b[38;5;241m.\u001b[39mdifference(obj\u001b[38;5;241m.\u001b[39mcolumns, sort\u001b[38;5;241m=\u001b[39m\u001b[38;5;28;01mTrue\u001b[39;00m)\n\u001b[0;32m    662\u001b[0m     \u001b[38;5;28;01mif\u001b[39;00m \u001b[38;5;28mlen\u001b[39m(cols) \u001b[38;5;241m>\u001b[39m \u001b[38;5;241m0\u001b[39m:\n\u001b[1;32m--> 663\u001b[0m         \u001b[38;5;28;01mraise\u001b[39;00m \u001b[38;5;167;01mKeyError\u001b[39;00m(\u001b[38;5;124mf\u001b[39m\u001b[38;5;124m\"\u001b[39m\u001b[38;5;124mColumn(s) \u001b[39m\u001b[38;5;132;01m{\u001b[39;00m\u001b[38;5;28mlist\u001b[39m(cols)\u001b[38;5;132;01m}\u001b[39;00m\u001b[38;5;124m do not exist\u001b[39m\u001b[38;5;124m\"\u001b[39m)\n\u001b[0;32m    665\u001b[0m aggregator_types \u001b[38;5;241m=\u001b[39m (\u001b[38;5;28mlist\u001b[39m, \u001b[38;5;28mtuple\u001b[39m, \u001b[38;5;28mdict\u001b[39m)\n\u001b[0;32m    667\u001b[0m \u001b[38;5;66;03m# if we have a dict of any non-scalars\u001b[39;00m\n\u001b[0;32m    668\u001b[0m \u001b[38;5;66;03m# eg. {'A' : ['mean']}, normalize all to\u001b[39;00m\n\u001b[0;32m    669\u001b[0m \u001b[38;5;66;03m# be list-likes\u001b[39;00m\n\u001b[0;32m    670\u001b[0m \u001b[38;5;66;03m# Cannot use func.values() because arg may be a Series\u001b[39;00m\n",
      "\u001b[1;31mKeyError\u001b[0m: \"Column(s) ['Lead_time_promised'] do not exist\""
     ]
    }
   ],
   "source": [
    "import pandas as pd\n",
    "import numpy as np\n",
    "\n",
    "df = pd.read_csv(\"supply_chain_data.csv\")\n",
    "\n",
    "# Métricas por proveedor\n",
    "provider_metrics = df.groupby('Supplier name').agg(\n",
    "    Avg_Lead_Time=('Lead time', 'mean'),\n",
    "    Std_Lead_Time=('Lead time', 'std'),\n",
    "    Avg_Lead_Time_Promised=('Lead_time_promised', 'mean'),\n",
    "    Avg_Manufacturing_Cost=('Manufacturing costs', 'mean'),\n",
    "    Avg_Defect_Rate=('Defect rates', 'mean'),\n",
    "    Orders_Count=('SKU', 'count'),\n",
    "    Total_Production_Volume=('Production volumes', 'sum')\n",
    ").reset_index()\n",
    "\n",
    "# Alertas y categorización basada en thresholds\n",
    "def categorize_provider(row):\n",
    "    if row['Avg_Lead_Time'] > 15 or row['Avg_Defect_Rate'] > 5:\n",
    "        return \"Crítico\"\n",
    "    elif row['Avg_Lead_Time'] <= 10 and row['Avg_Defect_Rate'] <= 2:\n",
    "        return \"Top Performer\"\n",
    "    else:\n",
    "        return \"Normal\"\n",
    "\n",
    "provider_metrics['Risk_Category'] = provider_metrics.apply(categorize_provider, axis=1)\n",
    "provider_metrics['Alert'] = provider_metrics['Risk_Category'].map({\n",
    "    \"Crítico\": \"🔴\",\n",
    "    \"Normal\": \"🟡\",\n",
    "    \"Top Performer\": \"🟢\"\n",
    "})\n",
    "\n",
    "provider_metrics.to_excel(\"Desempeno_Proveedores.xlsx\", index=False)\n",
    "print(\"✅ Análisis de proveedores exportado\")\n"
   ]
  },
  {
   "cell_type": "code",
   "execution_count": null,
   "id": "cbee6a91-ce35-46f7-be78-06344c686cec",
   "metadata": {},
   "outputs": [],
   "source": []
  }
 ],
 "metadata": {
  "kernelspec": {
   "display_name": "Python 3 (ipykernel)",
   "language": "python",
   "name": "python3"
  },
  "language_info": {
   "codemirror_mode": {
    "name": "ipython",
    "version": 3
   },
   "file_extension": ".py",
   "mimetype": "text/x-python",
   "name": "python",
   "nbconvert_exporter": "python",
   "pygments_lexer": "ipython3",
   "version": "3.12.7"
  }
 },
 "nbformat": 4,
 "nbformat_minor": 5
}
